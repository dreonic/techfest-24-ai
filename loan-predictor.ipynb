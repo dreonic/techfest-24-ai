{
 "cells": [
  {
   "cell_type": "code",
   "execution_count": 2,
   "metadata": {},
   "outputs": [],
   "source": [
    "import numpy as np\n",
    "import pandas as pd\n",
    "import matplotlib.pyplot as plt\n",
    "import seaborn as sns\n",
    "import warnings\n",
    "import scipy.stats as stats"
   ]
  },
  {
   "cell_type": "code",
   "execution_count": 3,
   "metadata": {},
   "outputs": [
    {
     "name": "stderr",
     "output_type": "stream",
     "text": [
      "C:\\Users\\juanf\\AppData\\Local\\Temp\\ipykernel_1844\\803838548.py:1: DtypeWarning: Columns (0,19,49,59,118,129,130,131,134,135,136,139,145,146,147) have mixed types. Specify dtype option on import or set low_memory=False.\n",
      "  raw_data = pd.read_csv('data/accepted_2007_to_2018Q4.csv.gz', compression='gzip')\n"
     ]
    }
   ],
   "source": [
    "raw_data = pd.read_csv('../data/accepted_2007_to_2018Q4.csv.gz', compression='gzip')"
   ]
  },
  {
   "cell_type": "code",
   "execution_count": 4,
   "metadata": {},
   "outputs": [],
   "source": [
    "# Drop columns from 'title' to the end\n",
    "start_index= raw_data.columns.get_loc('title')\n",
    "acc_set = raw_data.iloc[:, :start_index]\n",
    "\n",
    "acc_set = acc_set.drop(['member_id','funded_amnt_inv','installment','sub_grade','funded_amnt','id','url','desc','pymnt_plan','emp_title','issue_d','verification_status'],axis=1)\n",
    "acc_set = acc_set.drop(['home_ownership', 'emp_length'], axis=1)"
   ]
  },
  {
   "cell_type": "code",
   "execution_count": 5,
   "metadata": {},
   "outputs": [
    {
     "data": {
      "text/html": [
       "<div>\n",
       "<style scoped>\n",
       "    .dataframe tbody tr th:only-of-type {\n",
       "        vertical-align: middle;\n",
       "    }\n",
       "\n",
       "    .dataframe tbody tr th {\n",
       "        vertical-align: top;\n",
       "    }\n",
       "\n",
       "    .dataframe thead th {\n",
       "        text-align: right;\n",
       "    }\n",
       "</style>\n",
       "<table border=\"1\" class=\"dataframe\">\n",
       "  <thead>\n",
       "    <tr style=\"text-align: right;\">\n",
       "      <th></th>\n",
       "      <th>loan_amnt</th>\n",
       "      <th>term</th>\n",
       "      <th>int_rate</th>\n",
       "      <th>grade</th>\n",
       "      <th>annual_inc</th>\n",
       "      <th>loan_status</th>\n",
       "      <th>purpose</th>\n",
       "    </tr>\n",
       "  </thead>\n",
       "  <tbody>\n",
       "    <tr>\n",
       "      <th>0</th>\n",
       "      <td>3600.0</td>\n",
       "      <td>36 months</td>\n",
       "      <td>13.99</td>\n",
       "      <td>C</td>\n",
       "      <td>55000.0</td>\n",
       "      <td>Fully Paid</td>\n",
       "      <td>debt_consolidation</td>\n",
       "    </tr>\n",
       "    <tr>\n",
       "      <th>1</th>\n",
       "      <td>24700.0</td>\n",
       "      <td>36 months</td>\n",
       "      <td>11.99</td>\n",
       "      <td>C</td>\n",
       "      <td>65000.0</td>\n",
       "      <td>Fully Paid</td>\n",
       "      <td>small_business</td>\n",
       "    </tr>\n",
       "    <tr>\n",
       "      <th>2</th>\n",
       "      <td>20000.0</td>\n",
       "      <td>60 months</td>\n",
       "      <td>10.78</td>\n",
       "      <td>B</td>\n",
       "      <td>63000.0</td>\n",
       "      <td>Fully Paid</td>\n",
       "      <td>home_improvement</td>\n",
       "    </tr>\n",
       "    <tr>\n",
       "      <th>3</th>\n",
       "      <td>35000.0</td>\n",
       "      <td>60 months</td>\n",
       "      <td>14.85</td>\n",
       "      <td>C</td>\n",
       "      <td>110000.0</td>\n",
       "      <td>Current</td>\n",
       "      <td>debt_consolidation</td>\n",
       "    </tr>\n",
       "    <tr>\n",
       "      <th>4</th>\n",
       "      <td>10400.0</td>\n",
       "      <td>60 months</td>\n",
       "      <td>22.45</td>\n",
       "      <td>F</td>\n",
       "      <td>104433.0</td>\n",
       "      <td>Fully Paid</td>\n",
       "      <td>major_purchase</td>\n",
       "    </tr>\n",
       "  </tbody>\n",
       "</table>\n",
       "</div>"
      ],
      "text/plain": [
       "   loan_amnt        term  int_rate grade  annual_inc loan_status  \\\n",
       "0     3600.0   36 months     13.99     C     55000.0  Fully Paid   \n",
       "1    24700.0   36 months     11.99     C     65000.0  Fully Paid   \n",
       "2    20000.0   60 months     10.78     B     63000.0  Fully Paid   \n",
       "3    35000.0   60 months     14.85     C    110000.0     Current   \n",
       "4    10400.0   60 months     22.45     F    104433.0  Fully Paid   \n",
       "\n",
       "              purpose  \n",
       "0  debt_consolidation  \n",
       "1      small_business  \n",
       "2    home_improvement  \n",
       "3  debt_consolidation  \n",
       "4      major_purchase  "
      ]
     },
     "execution_count": 5,
     "metadata": {},
     "output_type": "execute_result"
    }
   ],
   "source": [
    "acc_set.head()"
   ]
  },
  {
   "cell_type": "markdown",
   "metadata": {},
   "source": [
    "DATASET OVERVIEW"
   ]
  },
  {
   "cell_type": "code",
   "execution_count": 6,
   "metadata": {},
   "outputs": [
    {
     "name": "stdout",
     "output_type": "stream",
     "text": [
      "<class 'pandas.core.frame.DataFrame'>\n",
      "RangeIndex: 2260701 entries, 0 to 2260700\n",
      "Data columns (total 7 columns):\n",
      " #   Column       Dtype  \n",
      "---  ------       -----  \n",
      " 0   loan_amnt    float64\n",
      " 1   term         object \n",
      " 2   int_rate     float64\n",
      " 3   grade        object \n",
      " 4   annual_inc   float64\n",
      " 5   loan_status  object \n",
      " 6   purpose      object \n",
      "dtypes: float64(3), object(4)\n",
      "memory usage: 120.7+ MB\n"
     ]
    }
   ],
   "source": [
    "acc_set.info()"
   ]
  },
  {
   "cell_type": "markdown",
   "metadata": {},
   "source": [
    "ADDING MISSING VALUES (TRAIN DATASET)"
   ]
  },
  {
   "cell_type": "code",
   "execution_count": 7,
   "metadata": {},
   "outputs": [
    {
     "data": {
      "text/plain": [
       "loan_amnt      33\n",
       "term           33\n",
       "int_rate       33\n",
       "grade          33\n",
       "annual_inc     37\n",
       "loan_status    33\n",
       "purpose        33\n",
       "dtype: int64"
      ]
     },
     "execution_count": 7,
     "metadata": {},
     "output_type": "execute_result"
    }
   ],
   "source": [
    "# Check for missing values\n",
    "acc_set.isnull().sum()"
   ]
  },
  {
   "cell_type": "code",
   "execution_count": 8,
   "metadata": {},
   "outputs": [
    {
     "name": "stdout",
     "output_type": "stream",
     "text": [
      "      Variable  Missing Percentage\n",
      "4   annual_inc            0.001637\n",
      "0    loan_amnt            0.001460\n",
      "1         term            0.001460\n",
      "2     int_rate            0.001460\n",
      "3        grade            0.001460\n",
      "5  loan_status            0.001460\n",
      "6      purpose            0.001460\n"
     ]
    }
   ],
   "source": [
    "missing_percentage = (acc_set.isnull().sum() / len(acc_set)) * 100\n",
    "# Create DF to display the results\n",
    "missing_data = pd.DataFrame({\n",
    "    'Variable': missing_percentage.index,\n",
    "    'Missing Percentage': missing_percentage.values\n",
    "})\n",
    "# Sort the DF by missing percentage\n",
    "missing_data = missing_data.sort_values(by='Missing Percentage', ascending=False)\n",
    "print(missing_data)"
   ]
  },
  {
   "cell_type": "code",
   "execution_count": 9,
   "metadata": {},
   "outputs": [],
   "source": [
    "# Drop missing values since the data was large enough\n",
    "acc_set = acc_set.dropna()"
   ]
  },
  {
   "cell_type": "code",
   "execution_count": 10,
   "metadata": {},
   "outputs": [
    {
     "data": {
      "text/plain": [
       "count    2.260664e+06\n",
       "mean     1.504695e+04\n",
       "std      9.190246e+03\n",
       "min      5.000000e+02\n",
       "25%      8.000000e+03\n",
       "50%      1.290000e+04\n",
       "75%      2.000000e+04\n",
       "max      4.000000e+04\n",
       "Name: loan_amnt, dtype: float64"
      ]
     },
     "execution_count": 10,
     "metadata": {},
     "output_type": "execute_result"
    }
   ],
   "source": [
    "acc_set['loan_amnt'].describe()"
   ]
  },
  {
   "cell_type": "code",
   "execution_count": 11,
   "metadata": {},
   "outputs": [
    {
     "name": "stdout",
     "output_type": "stream",
     "text": [
      "<class 'pandas.core.frame.DataFrame'>\n",
      "Index: 2260664 entries, 0 to 2260698\n",
      "Data columns (total 7 columns):\n",
      " #   Column       Dtype  \n",
      "---  ------       -----  \n",
      " 0   loan_amnt    float64\n",
      " 1   term         object \n",
      " 2   int_rate     float64\n",
      " 3   grade        object \n",
      " 4   annual_inc   float64\n",
      " 5   loan_status  object \n",
      " 6   purpose      object \n",
      "dtypes: float64(3), object(4)\n",
      "memory usage: 138.0+ MB\n"
     ]
    }
   ],
   "source": [
    "acc_set.info()"
   ]
  },
  {
   "cell_type": "code",
   "execution_count": 12,
   "metadata": {},
   "outputs": [],
   "source": [
    "#REMOVE OUTLIERS\n",
    "Q1 = acc_set['loan_amnt'].quantile(0.25)\n",
    "Q3 = acc_set['loan_amnt'].quantile(0.75)\n",
    "IQR = Q3 - Q1\n",
    "acc_set = acc_set[~((acc_set['loan_amnt'] < (Q1 - 1.5 * IQR)) | (acc_set['loan_amnt'] > (Q3 + 1.5 * IQR)))]\n"
   ]
  },
  {
   "cell_type": "code",
   "execution_count": 13,
   "metadata": {},
   "outputs": [],
   "source": [
    "#REMOVE OUTLIERS\n",
    "Q1 = acc_set['int_rate'].quantile(0.25)\n",
    "Q3 = acc_set['int_rate'].quantile(0.75)\n",
    "IQR = Q3 - Q1\n",
    "acc_set = acc_set[~((acc_set['int_rate'] < (Q1 - 1.5 * IQR)) | (acc_set['int_rate'] > (Q3 + 1.5 * IQR)))]"
   ]
  },
  {
   "cell_type": "code",
   "execution_count": 14,
   "metadata": {},
   "outputs": [
    {
     "name": "stdout",
     "output_type": "stream",
     "text": [
      "<class 'pandas.core.frame.DataFrame'>\n",
      "Index: 2183697 entries, 0 to 2260698\n",
      "Data columns (total 7 columns):\n",
      " #   Column       Dtype  \n",
      "---  ------       -----  \n",
      " 0   loan_amnt    float64\n",
      " 1   term         object \n",
      " 2   int_rate     float64\n",
      " 3   grade        object \n",
      " 4   annual_inc   float64\n",
      " 5   loan_status  object \n",
      " 6   purpose      object \n",
      "dtypes: float64(3), object(4)\n",
      "memory usage: 133.3+ MB\n"
     ]
    }
   ],
   "source": [
    "acc_set.info()"
   ]
  },
  {
   "cell_type": "code",
   "execution_count": 15,
   "metadata": {},
   "outputs": [],
   "source": [
    "#REMOVE OUTLIERS\n",
    "Q1 = acc_set['annual_inc'].quantile(0.25)\n",
    "Q3 = acc_set['annual_inc'].quantile(0.75)\n",
    "IQR = Q3 - Q1\n",
    "acc_set = acc_set[~((acc_set['annual_inc'] < (Q1 - 1.5 * IQR)) | (acc_set['annual_inc'] > (Q3 + 1.5 * IQR)))]"
   ]
  },
  {
   "cell_type": "code",
   "execution_count": 16,
   "metadata": {},
   "outputs": [
    {
     "name": "stdout",
     "output_type": "stream",
     "text": [
      "0.7416443994369606\n",
      "0.46701548924966996\n",
      "0.7203586672756999\n"
     ]
    }
   ],
   "source": [
    "print(acc_set[\"loan_amnt\"].skew())\n",
    "print(acc_set[\"int_rate\"].skew())\n",
    "print(acc_set[\"annual_inc\"].skew())\n",
    "\n",
    "# int_rate is fairly symmetrical (between -0.5 and 0.5)\n",
    "# loan_amnt & annual_inc are moderately skewed (between 0.5 and 1)"
   ]
  },
  {
   "cell_type": "code",
   "execution_count": 17,
   "metadata": {},
   "outputs": [
    {
     "name": "stdout",
     "output_type": "stream",
     "text": [
      "loan_status\n",
      "Fully Paid                                             1011325\n",
      "Current                                                 790899\n",
      "Charged Off                                             248396\n",
      "Late (31-120 days)                                       18786\n",
      "In Grace Period                                           7275\n",
      "Late (16-30 days)                                         3757\n",
      "Does not meet the credit policy. Status:Fully Paid        1881\n",
      "Does not meet the credit policy. Status:Charged Off        715\n",
      "Default                                                     34\n",
      "Name: count, dtype: int64\n"
     ]
    }
   ],
   "source": [
    "category_column = 'loan_status'\n",
    "\n",
    "# Count occurrences of each category in the specified column\n",
    "category_counts = acc_set['loan_status'].value_counts()\n",
    "\n",
    "# Display the counts\n",
    "print(category_counts)"
   ]
  },
  {
   "cell_type": "code",
   "execution_count": 18,
   "metadata": {},
   "outputs": [
    {
     "name": "stdout",
     "output_type": "stream",
     "text": [
      "<class 'pandas.core.frame.DataFrame'>\n",
      "Index: 1259721 entries, 0 to 2260697\n",
      "Data columns (total 7 columns):\n",
      " #   Column       Non-Null Count    Dtype  \n",
      "---  ------       --------------    -----  \n",
      " 0   loan_amnt    1259721 non-null  float64\n",
      " 1   term         1259721 non-null  object \n",
      " 2   int_rate     1259721 non-null  float64\n",
      " 3   grade        1259721 non-null  object \n",
      " 4   annual_inc   1259721 non-null  float64\n",
      " 5   loan_status  1259721 non-null  object \n",
      " 6   purpose      1259721 non-null  object \n",
      "dtypes: float64(3), object(4)\n",
      "memory usage: 76.9+ MB\n"
     ]
    }
   ],
   "source": [
    "#Filtered to only Current and Fully Paid loan statuses\n",
    "filtered_acc_set = acc_set[acc_set['loan_status'].isin(['Fully Paid', 'Charged Off'])]\n",
    "\n",
    "filtered_acc_set.info()"
   ]
  },
  {
   "cell_type": "code",
   "execution_count": 19,
   "metadata": {},
   "outputs": [],
   "source": [
    "filtered_acc_set_paid = acc_set[acc_set['loan_status'].isin(['Fully Paid'])]\n",
    "filtered_acc_set_charged = acc_set[acc_set['loan_status'].isin(['Charged Off'])]\n"
   ]
  },
  {
   "cell_type": "code",
   "execution_count": 20,
   "metadata": {},
   "outputs": [],
   "source": [
    "Q1 = filtered_acc_set_paid['annual_inc'].quantile(0.25)\n",
    "Q3 = filtered_acc_set_paid['annual_inc'].quantile(0.75)\n",
    "IQR = Q3 - Q1\n",
    "filtered_acc_set_paid = filtered_acc_set_paid[~((filtered_acc_set_paid['annual_inc'] < (Q1 - 1.5 * IQR)) | (filtered_acc_set_paid['annual_inc'] > (Q3 + 1.5 * IQR)))]"
   ]
  },
  {
   "cell_type": "code",
   "execution_count": 21,
   "metadata": {},
   "outputs": [],
   "source": [
    "Q1 = filtered_acc_set_paid['loan_amnt'].quantile(0.25)\n",
    "Q3 = filtered_acc_set_paid['loan_amnt'].quantile(0.75)\n",
    "IQR = Q3 - Q1\n",
    "filtered_acc_set_paid = filtered_acc_set_paid[~((filtered_acc_set_paid['loan_amnt'] < (Q1 - 1.5 * IQR)) | (filtered_acc_set_paid['loan_amnt'] > (Q3 + 1.5 * IQR)))]"
   ]
  },
  {
   "cell_type": "code",
   "execution_count": 22,
   "metadata": {},
   "outputs": [],
   "source": [
    "Q1 = filtered_acc_set_paid['int_rate'].quantile(0.25)\n",
    "Q3 = filtered_acc_set_paid['int_rate'].quantile(0.75)\n",
    "IQR = Q3 - Q1\n",
    "filtered_acc_set_paid = filtered_acc_set_paid[~((filtered_acc_set_paid['int_rate'] < (Q1 - 1.5 * IQR)) | (filtered_acc_set_paid['int_rate'] > (Q3 + 1.5 * IQR)))]"
   ]
  },
  {
   "cell_type": "code",
   "execution_count": 23,
   "metadata": {},
   "outputs": [
    {
     "name": "stdout",
     "output_type": "stream",
     "text": [
      "0.379792378282666\n",
      "0.6710291454975075\n",
      "0.6840959402069496\n"
     ]
    }
   ],
   "source": [
    "print(filtered_acc_set_paid['int_rate'].skew())\n",
    "print(filtered_acc_set_paid['loan_amnt'].skew())\n",
    "print(filtered_acc_set_paid['annual_inc'].skew())"
   ]
  },
  {
   "cell_type": "code",
   "execution_count": 24,
   "metadata": {},
   "outputs": [],
   "source": [
    "Q1 = filtered_acc_set_charged['annual_inc'].quantile(0.25)\n",
    "Q3 = filtered_acc_set_charged['annual_inc'].quantile(0.75)\n",
    "IQR = Q3 - Q1\n",
    "filtered_acc_set_charged = filtered_acc_set_charged[~((filtered_acc_set_charged['annual_inc'] < (Q1 - 1.5 * IQR)) | (filtered_acc_set_charged['annual_inc'] > (Q3 + 1.5 * IQR)))]"
   ]
  },
  {
   "cell_type": "code",
   "execution_count": 25,
   "metadata": {},
   "outputs": [],
   "source": [
    "Q1 = filtered_acc_set_charged['loan_amnt'].quantile(0.25)\n",
    "Q3 = filtered_acc_set_charged['loan_amnt'].quantile(0.75)\n",
    "IQR = Q3 - Q1\n",
    "filtered_acc_set_charged = filtered_acc_set_charged[~((filtered_acc_set_charged['loan_amnt'] < (Q1 - 1.5 * IQR)) | (filtered_acc_set_charged['loan_amnt'] > (Q3 + 1.5 * IQR)))]"
   ]
  },
  {
   "cell_type": "code",
   "execution_count": 26,
   "metadata": {},
   "outputs": [],
   "source": [
    "Q1 = filtered_acc_set_charged['int_rate'].quantile(0.25)\n",
    "Q3 = filtered_acc_set_charged['int_rate'].quantile(0.75)\n",
    "IQR = Q3 - Q1\n",
    "filtered_acc_set_charged = filtered_acc_set_charged[~((filtered_acc_set_charged['int_rate'] < (Q1 - 1.5 * IQR)) | (filtered_acc_set_charged['int_rate'] > (Q3 + 1.5 * IQR)))]"
   ]
  },
  {
   "cell_type": "code",
   "execution_count": 27,
   "metadata": {},
   "outputs": [
    {
     "name": "stdout",
     "output_type": "stream",
     "text": [
      "0.6021600317818238\n",
      "0.6696931802098749\n",
      "0.21998913458754438\n"
     ]
    }
   ],
   "source": [
    "print(filtered_acc_set_charged['annual_inc'].skew())\n",
    "print(filtered_acc_set_charged['loan_amnt'].skew())\n",
    "print(filtered_acc_set_charged['int_rate'].skew())"
   ]
  },
  {
   "cell_type": "code",
   "execution_count": 28,
   "metadata": {},
   "outputs": [],
   "source": [
    "filtered_acc_set = pd.concat([filtered_acc_set_paid, filtered_acc_set_charged])"
   ]
  },
  {
   "cell_type": "code",
   "execution_count": 29,
   "metadata": {},
   "outputs": [
    {
     "name": "stdout",
     "output_type": "stream",
     "text": [
      "F-statistic: 12686.245187\n",
      "P-value: 0.000000000000000\n"
     ]
    }
   ],
   "source": [
    "result = stats.f_oneway(filtered_acc_set_paid['loan_amnt'], filtered_acc_set_charged['loan_amnt'])\n",
    "\n",
    "print(f'F-statistic: {result.statistic:.6f}')\n",
    "print(f'P-value: {result.pvalue:.15f}')\n",
    "\n",
    "# p-value is less than 0.05, so we reject the null hypothesis and conclude that the means of loan amount \n",
    "# are significantly different between the people who charged off and the people who fully paid"
   ]
  },
  {
   "cell_type": "code",
   "execution_count": 30,
   "metadata": {},
   "outputs": [
    {
     "data": {
      "text/plain": [
       "F_onewayResult(statistic=101014.19096358858, pvalue=0.0)"
      ]
     },
     "execution_count": 30,
     "metadata": {},
     "output_type": "execute_result"
    }
   ],
   "source": [
    "stats.f_oneway(filtered_acc_set_paid['int_rate'] , filtered_acc_set_charged['int_rate'])\n",
    "# p-value is less than 0.05, so we reject the null hypothesis and conclude that the means of interest rate\n",
    "# are significantly different between the people who charged off and the people who fully paid"
   ]
  },
  {
   "cell_type": "markdown",
   "metadata": {},
   "source": [
    "# Machine Learning"
   ]
  },
  {
   "cell_type": "code",
   "execution_count": 31,
   "metadata": {},
   "outputs": [],
   "source": [
    "model_data = filtered_acc_set.copy()\n",
    "model_data = model_data.reset_index()\n",
    "\n",
    "num_var=[\"loan_amnt\",\"int_rate\",\"annual_inc\"]\n",
    "cat_var=[\"term\",\"grade\",\"purpose\"]"
   ]
  },
  {
   "cell_type": "code",
   "execution_count": 32,
   "metadata": {},
   "outputs": [],
   "source": [
    "from sklearn.preprocessing import OneHotEncoder, StandardScaler\n",
    "from sklearn.compose import ColumnTransformer\n",
    "\n",
    "encoder = OneHotEncoder()\n",
    "\n",
    "one_hot_encoded = encoder.fit_transform(model_data[cat_var])\n",
    "\n",
    "column_names = encoder.get_feature_names_out(cat_var)\n",
    "\n",
    "one_hot_encoded_df = pd.DataFrame(one_hot_encoded.toarray(), columns=column_names)\n",
    "data_encoded = pd.concat([model_data, one_hot_encoded_df], axis=1)\n",
    "data_encoded.drop(columns=cat_var, inplace=True,errors='ignore')\n",
    "data_encoded.drop(columns=['index'], inplace=True,errors='ignore')\n",
    "\n",
    "model_data=data_encoded"
   ]
  },
  {
   "cell_type": "code",
   "execution_count": 33,
   "metadata": {},
   "outputs": [],
   "source": [
    "from sklearn.model_selection import train_test_split\n",
    "\n",
    "X_train, X_test, y_train, y_test = train_test_split(model_data.drop('loan_status', axis=1), model_data['loan_status'], test_size=0.2, random_state=0)"
   ]
  },
  {
   "cell_type": "code",
   "execution_count": 34,
   "metadata": {},
   "outputs": [],
   "source": [
    "from sklearn.metrics import accuracy_score\n",
    "from sklearn.metrics import confusion_matrix\n",
    "from sklearn.metrics import classification_report\n",
    "from sklearn.metrics import roc_auc_score\n",
    "from sklearn.metrics import roc_curve\n",
    "from sklearn.metrics import precision_recall_curve\n",
    "from sklearn.metrics import auc"
   ]
  },
  {
   "cell_type": "markdown",
   "metadata": {},
   "source": [
    "# Classifier"
   ]
  },
  {
   "cell_type": "markdown",
   "metadata": {},
   "source": [
    "## Random Forest"
   ]
  },
  {
   "cell_type": "code",
   "execution_count": 35,
   "metadata": {},
   "outputs": [],
   "source": [
    "from sklearn.ensemble import RandomForestClassifier\n",
    "\n",
    "rf = RandomForestClassifier(n_estimators=10, min_samples_leaf=8, random_state=0)\n",
    "\n",
    "# Train the model\n",
    "rf.fit(X_train, y_train)\n",
    "\n",
    "# Evaluate the model on the train and testing set\n",
    "y_train_pred = rf.predict(X_train)\n",
    "y_test_pred = rf.predict(X_test)"
   ]
  },
  {
   "cell_type": "code",
   "execution_count": 36,
   "metadata": {},
   "outputs": [
    {
     "data": {
      "text/plain": [
       "0.8113998845644383"
      ]
     },
     "execution_count": 36,
     "metadata": {},
     "output_type": "execute_result"
    }
   ],
   "source": [
    "acc1 = accuracy_score(y_test, y_test_pred)\n",
    "acc1"
   ]
  },
  {
   "cell_type": "code",
   "execution_count": 171,
   "metadata": {},
   "outputs": [
    {
     "data": {
      "text/plain": [
       "array(['Charged Off'], dtype=object)"
      ]
     },
     "execution_count": 171,
     "metadata": {},
     "output_type": "execute_result"
    }
   ],
   "source": [
    "from sklearn.preprocessing import OneHotEncoder, LabelEncoder\n",
    "\n",
    "new_input = pd.DataFrame({\n",
    "    'loan_amnt': [50000],\n",
    "    'term': [' 36 months'],\n",
    "    'int_rate': [10],\n",
    "    'grade': ['A'],\n",
    "    'annual_inc': [10000],\n",
    "    'purpose': ['debt_consolidation']\n",
    "})\n",
    "\n",
    "new_input_cat = new_input[cat_var]\n",
    "new_input_num = new_input[num_var]\n",
    "\n",
    "new_input_encoded = encoder.transform(new_input_cat)\n",
    "new_input_encoded = pd.DataFrame(new_input_encoded.toarray(), columns=column_names)\n",
    "new_input_encoded = pd.concat([new_input_num.reset_index(drop=True), new_input_encoded.reset_index(drop=True)], axis=1)\n",
    "\n",
    "predictions = rf.predict(new_input_encoded)\n",
    "predictions"
   ]
  },
  {
   "cell_type": "markdown",
   "metadata": {},
   "source": [
    "# KNN"
   ]
  },
  {
   "cell_type": "code",
   "execution_count": 41,
   "metadata": {},
   "outputs": [
    {
     "name": "stdout",
     "output_type": "stream",
     "text": [
      "Accuracy Score: 0.7594912530571738\n"
     ]
    }
   ],
   "source": [
    "from sklearn.neighbors import KNeighborsClassifier\n",
    "knn = KNeighborsClassifier(n_neighbors=3)\n",
    "\n",
    "knn_model = knn.fit(X_train, y_train)\n",
    "knn_pred = knn_model.predict(X_test)\n",
    "\n",
    "print('Accuracy Score:', accuracy_score(y_test, knn_pred))"
   ]
  },
  {
   "cell_type": "code",
   "execution_count": 123,
   "metadata": {},
   "outputs": [
    {
     "data": {
      "text/html": [
       "<div>\n",
       "<style scoped>\n",
       "    .dataframe tbody tr th:only-of-type {\n",
       "        vertical-align: middle;\n",
       "    }\n",
       "\n",
       "    .dataframe tbody tr th {\n",
       "        vertical-align: top;\n",
       "    }\n",
       "\n",
       "    .dataframe thead th {\n",
       "        text-align: right;\n",
       "    }\n",
       "</style>\n",
       "<table border=\"1\" class=\"dataframe\">\n",
       "  <thead>\n",
       "    <tr style=\"text-align: right;\">\n",
       "      <th></th>\n",
       "      <th>loan_amnt</th>\n",
       "      <th>term</th>\n",
       "      <th>int_rate</th>\n",
       "      <th>grade</th>\n",
       "      <th>annual_inc</th>\n",
       "      <th>loan_status</th>\n",
       "      <th>purpose</th>\n",
       "    </tr>\n",
       "  </thead>\n",
       "  <tbody>\n",
       "    <tr>\n",
       "      <th>0</th>\n",
       "      <td>3600.0</td>\n",
       "      <td>36 months</td>\n",
       "      <td>13.99</td>\n",
       "      <td>C</td>\n",
       "      <td>55000.0</td>\n",
       "      <td>Fully Paid</td>\n",
       "      <td>debt_consolidation</td>\n",
       "    </tr>\n",
       "    <tr>\n",
       "      <th>1</th>\n",
       "      <td>24700.0</td>\n",
       "      <td>36 months</td>\n",
       "      <td>11.99</td>\n",
       "      <td>C</td>\n",
       "      <td>65000.0</td>\n",
       "      <td>Fully Paid</td>\n",
       "      <td>small_business</td>\n",
       "    </tr>\n",
       "    <tr>\n",
       "      <th>2</th>\n",
       "      <td>20000.0</td>\n",
       "      <td>60 months</td>\n",
       "      <td>10.78</td>\n",
       "      <td>B</td>\n",
       "      <td>63000.0</td>\n",
       "      <td>Fully Paid</td>\n",
       "      <td>home_improvement</td>\n",
       "    </tr>\n",
       "    <tr>\n",
       "      <th>4</th>\n",
       "      <td>10400.0</td>\n",
       "      <td>60 months</td>\n",
       "      <td>22.45</td>\n",
       "      <td>F</td>\n",
       "      <td>104433.0</td>\n",
       "      <td>Fully Paid</td>\n",
       "      <td>major_purchase</td>\n",
       "    </tr>\n",
       "    <tr>\n",
       "      <th>5</th>\n",
       "      <td>11950.0</td>\n",
       "      <td>36 months</td>\n",
       "      <td>13.44</td>\n",
       "      <td>C</td>\n",
       "      <td>34000.0</td>\n",
       "      <td>Fully Paid</td>\n",
       "      <td>debt_consolidation</td>\n",
       "    </tr>\n",
       "  </tbody>\n",
       "</table>\n",
       "</div>"
      ],
      "text/plain": [
       "   loan_amnt        term  int_rate grade  annual_inc loan_status  \\\n",
       "0     3600.0   36 months     13.99     C     55000.0  Fully Paid   \n",
       "1    24700.0   36 months     11.99     C     65000.0  Fully Paid   \n",
       "2    20000.0   60 months     10.78     B     63000.0  Fully Paid   \n",
       "4    10400.0   60 months     22.45     F    104433.0  Fully Paid   \n",
       "5    11950.0   36 months     13.44     C     34000.0  Fully Paid   \n",
       "\n",
       "              purpose  \n",
       "0  debt_consolidation  \n",
       "1      small_business  \n",
       "2    home_improvement  \n",
       "4      major_purchase  \n",
       "5  debt_consolidation  "
      ]
     },
     "execution_count": 123,
     "metadata": {},
     "output_type": "execute_result"
    }
   ],
   "source": [
    "filtered_acc_set.head()"
   ]
  },
  {
   "cell_type": "code",
   "execution_count": 154,
   "metadata": {},
   "outputs": [
    {
     "data": {
      "text/plain": [
       "array(['Charged Off'], dtype=object)"
      ]
     },
     "execution_count": 154,
     "metadata": {},
     "output_type": "execute_result"
    }
   ],
   "source": [
    "from sklearn.preprocessing import OneHotEncoder, LabelEncoder\n",
    "\n",
    "new_input = pd.DataFrame({\n",
    "    'loan_amnt': [30000],\n",
    "    'term': [' 60 months'],\n",
    "    'int_rate': [17],\n",
    "    'grade': ['F'],\n",
    "    'annual_inc': [25000],\n",
    "    'purpose': ['major_purchase']\n",
    "})\n",
    "\n",
    "new_input_cat = new_input[cat_var]\n",
    "new_input_num = new_input[num_var]\n",
    "\n",
    "new_input_encoded = encoder.transform(new_input_cat)\n",
    "new_input_encoded = pd.DataFrame(new_input_encoded.toarray(), columns=column_names)\n",
    "new_input_encoded = pd.concat([new_input_num.reset_index(drop=True), new_input_encoded.reset_index(drop=True)], axis=1)\n",
    "\n",
    "predictions = knn_model.predict(new_input_encoded)\n",
    "predictions"
   ]
  },
  {
   "cell_type": "markdown",
   "metadata": {},
   "source": [
    "# Predicting Maximum Loan Amount"
   ]
  },
  {
   "cell_type": "markdown",
   "metadata": {},
   "source": [
    "## Filtering Data"
   ]
  },
  {
   "cell_type": "code",
   "execution_count": 338,
   "metadata": {},
   "outputs": [],
   "source": [
    "from sklearn.preprocessing import OneHotEncoder, StandardScaler\n",
    "from sklearn.compose import ColumnTransformer\n",
    "\n",
    "paid_data = filtered_acc_set_paid\n",
    "paid_data.dropna(inplace=True)\n",
    "paid_data.head()\n",
    "\n",
    "encoder = OneHotEncoder()\n",
    "\n",
    "# Fit and transform the data\n",
    "one_hot_encoded = encoder.fit_transform(paid_data[cat_var])\n",
    "\n",
    "column_names = encoder.get_feature_names_out(cat_var)\n",
    "\n",
    "# concatenate the DataFrame with the one hot encoded values\n",
    "one_hot_encoded_df = pd.DataFrame(one_hot_encoded.toarray(), columns=column_names)\n",
    "data_encoded = pd.concat([paid_data, one_hot_encoded_df], axis=1)\n",
    "data_encoded.drop(columns=cat_var, inplace=True,errors='ignore')\n",
    "data_encoded.drop(columns=['index','loan_status'], inplace=True,errors='ignore')\n",
    "data_encoded.dropna(inplace=True)\n",
    "\n",
    "paid_data=data_encoded"
   ]
  },
  {
   "cell_type": "code",
   "execution_count": 339,
   "metadata": {},
   "outputs": [],
   "source": [
    "X_train_regression, X_test_regression, y_train_regression, y_test_regression = train_test_split(paid_data.drop('loan_amnt', axis=1), paid_data['loan_amnt'], test_size=0.2, random_state=0)"
   ]
  },
  {
   "cell_type": "markdown",
   "metadata": {},
   "source": [
    "## Random Forest Regressor"
   ]
  },
  {
   "cell_type": "code",
   "execution_count": 340,
   "metadata": {},
   "outputs": [
    {
     "name": "stdout",
     "output_type": "stream",
     "text": [
      "Explained Variance (R^2) \t: 0.19480497299815203\n",
      "Mean Squared Error (MSE) \t: 43486608.96240037\n",
      "Explained Variance (R^2) \t: 0.2864862589860334\n",
      "Mean Squared Error (MSE) \t: 38780703.79696835\n"
     ]
    }
   ],
   "source": [
    "from sklearn.ensemble import RandomForestRegressor\n",
    "\n",
    "rf_reg = RandomForestRegressor(n_estimators=10, min_samples_leaf=16, random_state=0)\n",
    "\n",
    "rf_reg.fit(X_train_regression, y_train_regression)\n",
    "rf_pred_train = rf_reg.predict(X_train_regression)\n",
    "rf_pred_test = rf_reg.predict(X_test_regression)\n",
    "\n",
    "from sklearn.metrics import mean_squared_error\n",
    "from sklearn.metrics import r2_score\n",
    "print(\"Explained Variance (R^2) \\t:\", r2_score(y_test_regression, rf_pred_test))\n",
    "print(\"Mean Squared Error (MSE) \\t:\", mean_squared_error(y_test_regression, rf_pred_test))\n",
    "print(\"Explained Variance (R^2) \\t:\", r2_score(y_train_regression, rf_pred_train))\n",
    "print(\"Mean Squared Error (MSE) \\t:\", mean_squared_error(y_train_regression, rf_pred_train))"
   ]
  },
  {
   "cell_type": "code",
   "execution_count": 350,
   "metadata": {},
   "outputs": [
    {
     "data": {
      "text/plain": [
       "15568.429093597737"
      ]
     },
     "execution_count": 350,
     "metadata": {},
     "output_type": "execute_result"
    }
   ],
   "source": [
    "new_input = pd.DataFrame({\n",
    "    'term': [' 36 months'],\n",
    "    'int_rate': [15],\n",
    "    'grade': ['A'],\n",
    "    'emp_length': ['10+ years'],\n",
    "    'home_ownership': ['NONE'],\n",
    "    'annual_inc': [1000],\n",
    "    'verification_status': ['Verified'],\n",
    "    'issue_d': ['2018-12-01'],\n",
    "    'purpose': ['small_business']\n",
    "})\n",
    "\n",
    "new_input_cat = new_input[cat_var]\n",
    "new_input_num = new_input[[\"int_rate\",\"annual_inc\"]]\n",
    "\n",
    "new_input_encoded = encoder.transform(new_input_cat)\n",
    "new_input_encoded = pd.DataFrame(new_input_encoded.toarray(), columns=column_names)\n",
    "new_input_encoded = pd.concat([new_input_num.reset_index(drop=True), new_input_encoded.reset_index(drop=True)], axis=1)\n",
    "\n",
    "predictions = rf_reg.predict(new_input_encoded)\n",
    "predictions[0]"
   ]
  },
  {
   "cell_type": "markdown",
   "metadata": {},
   "source": [
    "## XGBoost"
   ]
  },
  {
   "cell_type": "code",
   "execution_count": 250,
   "metadata": {},
   "outputs": [
    {
     "name": "stdout",
     "output_type": "stream",
     "text": [
      "Goodness of Fit of Model \tTrain Dataset\n",
      "Explained Variance (R^2) \t: 0.23786215644022946\n",
      "Mean Squared Error (MSE) \t: 18.62832368084702\n",
      "\n",
      "Goodness of Fit of Model \tTest Dataset\n",
      "Explained Variance (R^2) \t: 0.23866974708597077\n",
      "Mean Squared Error (MSE) \t: 18.66739061973875\n"
     ]
    }
   ],
   "source": [
    "import xgboost as xgb\n",
    "\n",
    "dtrain = xgb.DMatrix(X_train_regression, label=y_train_regression)\n",
    "dtest = xgb.DMatrix(X_test_regression, label=y_test_regression)\n",
    "\n",
    "param = {'max_depth': 3, 'learning_rate': 0.1, 'objective': 'reg:squarederror'}\n",
    "num_round = 250\n",
    "\n",
    "xgb_model = xgb.train(param, dtrain, num_round)\n",
    "\n",
    "y_train_pred = xgb_model.predict(dtrain)\n",
    "y_test_pred = xgb_model.predict(dtest)\n",
    "\n",
    "print(\"Goodness of Fit of Model \\tTrain Dataset\")\n",
    "print(\"Explained Variance (R^2) \\t:\", r2_score(y_train_regression, y_train_pred))\n",
    "print(\"Mean Squared Error (MSE) \\t:\", mean_squared_error(y_train_regression, y_train_pred))\n",
    "print()\n",
    "\n",
    "print(\"Goodness of Fit of Model \\tTest Dataset\")\n",
    "print(\"Explained Variance (R^2) \\t:\", r2_score(y_test_regression, y_test_pred))\n",
    "print(\"Mean Squared Error (MSE) \\t:\", mean_squared_error(y_test_regression, y_test_pred))"
   ]
  },
  {
   "cell_type": "markdown",
   "metadata": {},
   "source": [
    "## Elastic Learn"
   ]
  },
  {
   "cell_type": "code",
   "execution_count": 253,
   "metadata": {},
   "outputs": [
    {
     "name": "stdout",
     "output_type": "stream",
     "text": [
      "Goodness of Fit of Model \tTrain Dataset\n",
      "Explained Variance (R^2) \t: 0.23786215644022946\n",
      "Mean Squared Error (MSE) \t: 18.62832368084702\n",
      "\n",
      "Goodness of Fit of Model \tTest Dataset\n",
      "Explained Variance (R^2) \t: 0.23866974708597077\n",
      "Mean Squared Error (MSE) \t: 18.66739061973875\n"
     ]
    }
   ],
   "source": [
    "from sklearn.datasets import make_regression\n",
    "from sklearn.ensemble import GradientBoostingRegressor\n",
    "from sklearn.model_selection import train_test_split\n",
    "\n",
    "\n",
    "reg = GradientBoostingRegressor(random_state=0)\n",
    "reg.fit(X_train_regression, y_train_regression)\n",
    "reg.predict(X_test_regression[1:2])\n",
    "\n",
    "print(\"Goodness of Fit of Model \\tTrain Dataset\")\n",
    "print(\"Explained Variance (R^2) \\t:\", r2_score(y_train_regression, y_train_pred))\n",
    "print(\"Mean Squared Error (MSE) \\t:\", mean_squared_error(y_train_regression, y_train_pred))\n",
    "print()\n",
    "\n",
    "print(\"Goodness of Fit of Model \\tTest Dataset\")\n",
    "print(\"Explained Variance (R^2) \\t:\", r2_score(y_test_regression, y_test_pred))\n",
    "print(\"Mean Squared Error (MSE) \\t:\", mean_squared_error(y_test_regression, y_test_pred))"
   ]
  }
 ],
 "metadata": {
  "kernelspec": {
   "display_name": "Python 3",
   "language": "python",
   "name": "python3"
  },
  "language_info": {
   "codemirror_mode": {
    "name": "ipython",
    "version": 3
   },
   "file_extension": ".py",
   "mimetype": "text/x-python",
   "name": "python",
   "nbconvert_exporter": "python",
   "pygments_lexer": "ipython3",
   "version": "3.11.5"
  }
 },
 "nbformat": 4,
 "nbformat_minor": 2
}
