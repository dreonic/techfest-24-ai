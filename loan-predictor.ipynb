{
 "cells": [
  {
   "cell_type": "markdown",
   "metadata": {},
   "source": [
    "# A. Importing Libraries"
   ]
  },
  {
   "cell_type": "code",
   "execution_count": 54,
   "metadata": {},
   "outputs": [],
   "source": [
    "import numpy as np\n",
    "import pandas as pd\n",
    "import matplotlib.pyplot as plt\n",
    "import seaborn as sns\n",
    "import warnings\n",
    "import scipy.stats as stats"
   ]
  },
  {
   "cell_type": "markdown",
   "metadata": {},
   "source": [
    "# B. Data Processing\n",
    "Data analysis is described and done in loan-report"
   ]
  },
  {
   "cell_type": "code",
   "execution_count": 55,
   "metadata": {},
   "outputs": [],
   "source": [
    "raw_data = pd.read_csv('../data/accepted_2007_to_2018Q4.csv.gz', compression='gzip')"
   ]
  },
  {
   "cell_type": "markdown",
   "metadata": {},
   "source": [
    "## 1. Drop Unnecessary Variables\n",
    "Drop columns from 'title' to the end to simplify user input."
   ]
  },
  {
   "cell_type": "code",
   "execution_count": null,
   "metadata": {},
   "outputs": [],
   "source": [
    "start_index= raw_data.columns.get_loc('title')\n",
    "acc_set = raw_data.iloc[:, :start_index]\n",
    "\n",
    "acc_set = acc_set.drop(['member_id','funded_amnt_inv','installment','sub_grade','funded_amnt','id','url','desc','pymnt_plan','emp_title','issue_d','verification_status'],axis=1)\n",
    "acc_set = acc_set.drop(['home_ownership', 'emp_length'], axis=1)"
   ]
  },
  {
   "cell_type": "code",
   "execution_count": null,
   "metadata": {},
   "outputs": [
    {
     "data": {
      "text/html": [
       "<div>\n",
       "<style scoped>\n",
       "    .dataframe tbody tr th:only-of-type {\n",
       "        vertical-align: middle;\n",
       "    }\n",
       "\n",
       "    .dataframe tbody tr th {\n",
       "        vertical-align: top;\n",
       "    }\n",
       "\n",
       "    .dataframe thead th {\n",
       "        text-align: right;\n",
       "    }\n",
       "</style>\n",
       "<table border=\"1\" class=\"dataframe\">\n",
       "  <thead>\n",
       "    <tr style=\"text-align: right;\">\n",
       "      <th></th>\n",
       "      <th>loan_amnt</th>\n",
       "      <th>term</th>\n",
       "      <th>int_rate</th>\n",
       "      <th>grade</th>\n",
       "      <th>annual_inc</th>\n",
       "      <th>loan_status</th>\n",
       "      <th>purpose</th>\n",
       "    </tr>\n",
       "  </thead>\n",
       "  <tbody>\n",
       "    <tr>\n",
       "      <th>0</th>\n",
       "      <td>3600.0</td>\n",
       "      <td>36 months</td>\n",
       "      <td>13.99</td>\n",
       "      <td>C</td>\n",
       "      <td>55000.0</td>\n",
       "      <td>Fully Paid</td>\n",
       "      <td>debt_consolidation</td>\n",
       "    </tr>\n",
       "    <tr>\n",
       "      <th>1</th>\n",
       "      <td>24700.0</td>\n",
       "      <td>36 months</td>\n",
       "      <td>11.99</td>\n",
       "      <td>C</td>\n",
       "      <td>65000.0</td>\n",
       "      <td>Fully Paid</td>\n",
       "      <td>small_business</td>\n",
       "    </tr>\n",
       "    <tr>\n",
       "      <th>2</th>\n",
       "      <td>20000.0</td>\n",
       "      <td>60 months</td>\n",
       "      <td>10.78</td>\n",
       "      <td>B</td>\n",
       "      <td>63000.0</td>\n",
       "      <td>Fully Paid</td>\n",
       "      <td>home_improvement</td>\n",
       "    </tr>\n",
       "    <tr>\n",
       "      <th>3</th>\n",
       "      <td>35000.0</td>\n",
       "      <td>60 months</td>\n",
       "      <td>14.85</td>\n",
       "      <td>C</td>\n",
       "      <td>110000.0</td>\n",
       "      <td>Current</td>\n",
       "      <td>debt_consolidation</td>\n",
       "    </tr>\n",
       "    <tr>\n",
       "      <th>4</th>\n",
       "      <td>10400.0</td>\n",
       "      <td>60 months</td>\n",
       "      <td>22.45</td>\n",
       "      <td>F</td>\n",
       "      <td>104433.0</td>\n",
       "      <td>Fully Paid</td>\n",
       "      <td>major_purchase</td>\n",
       "    </tr>\n",
       "  </tbody>\n",
       "</table>\n",
       "</div>"
      ],
      "text/plain": [
       "   loan_amnt        term  int_rate grade  annual_inc loan_status  \\\n",
       "0     3600.0   36 months     13.99     C     55000.0  Fully Paid   \n",
       "1    24700.0   36 months     11.99     C     65000.0  Fully Paid   \n",
       "2    20000.0   60 months     10.78     B     63000.0  Fully Paid   \n",
       "3    35000.0   60 months     14.85     C    110000.0     Current   \n",
       "4    10400.0   60 months     22.45     F    104433.0  Fully Paid   \n",
       "\n",
       "              purpose  \n",
       "0  debt_consolidation  \n",
       "1      small_business  \n",
       "2    home_improvement  \n",
       "3  debt_consolidation  \n",
       "4      major_purchase  "
      ]
     },
     "execution_count": 4,
     "metadata": {},
     "output_type": "execute_result"
    }
   ],
   "source": [
    "acc_set.head()"
   ]
  },
  {
   "cell_type": "markdown",
   "metadata": {},
   "source": [
    "Fix categorical variable formatting"
   ]
  },
  {
   "cell_type": "code",
   "execution_count": null,
   "metadata": {},
   "outputs": [],
   "source": [
    "acc_set['term'] = acc_set['term'].replace([' 36 months'], '36 months')\n",
    "acc_set['term'] = acc_set['term'].replace([' 60 months'], '60 months')"
   ]
  },
  {
   "cell_type": "markdown",
   "metadata": {},
   "source": [
    "Dataset Overview"
   ]
  },
  {
   "cell_type": "code",
   "execution_count": null,
   "metadata": {},
   "outputs": [
    {
     "name": "stdout",
     "output_type": "stream",
     "text": [
      "<class 'pandas.core.frame.DataFrame'>\n",
      "RangeIndex: 2260701 entries, 0 to 2260700\n",
      "Data columns (total 7 columns):\n",
      " #   Column       Dtype  \n",
      "---  ------       -----  \n",
      " 0   loan_amnt    float64\n",
      " 1   term         object \n",
      " 2   int_rate     float64\n",
      " 3   grade        object \n",
      " 4   annual_inc   float64\n",
      " 5   loan_status  object \n",
      " 6   purpose      object \n",
      "dtypes: float64(3), object(4)\n",
      "memory usage: 120.7+ MB\n"
     ]
    }
   ],
   "source": [
    "acc_set.info()"
   ]
  },
  {
   "cell_type": "markdown",
   "metadata": {},
   "source": [
    "Check for missing values"
   ]
  },
  {
   "cell_type": "code",
   "execution_count": null,
   "metadata": {},
   "outputs": [
    {
     "data": {
      "text/plain": [
       "loan_amnt      33\n",
       "term           33\n",
       "int_rate       33\n",
       "grade          33\n",
       "annual_inc     37\n",
       "loan_status    33\n",
       "purpose        33\n",
       "dtype: int64"
      ]
     },
     "execution_count": 6,
     "metadata": {},
     "output_type": "execute_result"
    }
   ],
   "source": [
    "acc_set.isnull().sum()"
   ]
  },
  {
   "cell_type": "code",
   "execution_count": null,
   "metadata": {},
   "outputs": [
    {
     "name": "stdout",
     "output_type": "stream",
     "text": [
      "      Variable  Missing Percentage\n",
      "4   annual_inc            0.001637\n",
      "0    loan_amnt            0.001460\n",
      "1         term            0.001460\n",
      "2     int_rate            0.001460\n",
      "3        grade            0.001460\n",
      "5  loan_status            0.001460\n",
      "6      purpose            0.001460\n"
     ]
    }
   ],
   "source": [
    "missing_percentage = (acc_set.isnull().sum() / len(acc_set)) * 100\n",
    "\n",
    "# Create DataFrame to display the results\n",
    "missing_data = pd.DataFrame({\n",
    "    'Variable': missing_percentage.index,\n",
    "    'Missing Percentage': missing_percentage.values\n",
    "})\n",
    "\n",
    "# Sort the DF by missing percentage\n",
    "missing_data = missing_data.sort_values(by='Missing Percentage', ascending=False)\n",
    "print(missing_data)"
   ]
  },
  {
   "cell_type": "code",
   "execution_count": null,
   "metadata": {},
   "outputs": [],
   "source": [
    "# Drop missing values since the data was large enough\n",
    "acc_set = acc_set.dropna()"
   ]
  },
  {
   "cell_type": "code",
   "execution_count": null,
   "metadata": {},
   "outputs": [
    {
     "data": {
      "text/plain": [
       "count    2.260664e+06\n",
       "mean     1.504695e+04\n",
       "std      9.190246e+03\n",
       "min      5.000000e+02\n",
       "25%      8.000000e+03\n",
       "50%      1.290000e+04\n",
       "75%      2.000000e+04\n",
       "max      4.000000e+04\n",
       "Name: loan_amnt, dtype: float64"
      ]
     },
     "execution_count": 9,
     "metadata": {},
     "output_type": "execute_result"
    }
   ],
   "source": [
    "acc_set['loan_amnt'].describe()"
   ]
  },
  {
   "cell_type": "code",
   "execution_count": null,
   "metadata": {},
   "outputs": [
    {
     "name": "stdout",
     "output_type": "stream",
     "text": [
      "<class 'pandas.core.frame.DataFrame'>\n",
      "Index: 2260664 entries, 0 to 2260698\n",
      "Data columns (total 7 columns):\n",
      " #   Column       Dtype  \n",
      "---  ------       -----  \n",
      " 0   loan_amnt    float64\n",
      " 1   term         object \n",
      " 2   int_rate     float64\n",
      " 3   grade        object \n",
      " 4   annual_inc   float64\n",
      " 5   loan_status  object \n",
      " 6   purpose      object \n",
      "dtypes: float64(3), object(4)\n",
      "memory usage: 138.0+ MB\n"
     ]
    }
   ],
   "source": [
    "acc_set.info()"
   ]
  },
  {
   "cell_type": "code",
   "execution_count": null,
   "metadata": {},
   "outputs": [],
   "source": [
    "#REMOVE OUTLIERS\n",
    "Q1 = acc_set['loan_amnt'].quantile(0.25)\n",
    "Q3 = acc_set['loan_amnt'].quantile(0.75)\n",
    "IQR = Q3 - Q1\n",
    "acc_set = acc_set[~((acc_set['loan_amnt'] < (Q1 - 1.5 * IQR)) | (acc_set['loan_amnt'] > (Q3 + 1.5 * IQR)))]\n"
   ]
  },
  {
   "cell_type": "code",
   "execution_count": null,
   "metadata": {},
   "outputs": [],
   "source": [
    "#REMOVE OUTLIERS\n",
    "Q1 = acc_set['int_rate'].quantile(0.25)\n",
    "Q3 = acc_set['int_rate'].quantile(0.75)\n",
    "IQR = Q3 - Q1\n",
    "acc_set = acc_set[~((acc_set['int_rate'] < (Q1 - 1.5 * IQR)) | (acc_set['int_rate'] > (Q3 + 1.5 * IQR)))]"
   ]
  },
  {
   "cell_type": "code",
   "execution_count": null,
   "metadata": {},
   "outputs": [
    {
     "name": "stdout",
     "output_type": "stream",
     "text": [
      "<class 'pandas.core.frame.DataFrame'>\n",
      "Index: 2183697 entries, 0 to 2260698\n",
      "Data columns (total 7 columns):\n",
      " #   Column       Dtype  \n",
      "---  ------       -----  \n",
      " 0   loan_amnt    float64\n",
      " 1   term         object \n",
      " 2   int_rate     float64\n",
      " 3   grade        object \n",
      " 4   annual_inc   float64\n",
      " 5   loan_status  object \n",
      " 6   purpose      object \n",
      "dtypes: float64(3), object(4)\n",
      "memory usage: 133.3+ MB\n"
     ]
    }
   ],
   "source": [
    "acc_set.info()"
   ]
  },
  {
   "cell_type": "code",
   "execution_count": null,
   "metadata": {},
   "outputs": [],
   "source": [
    "#REMOVE OUTLIERS\n",
    "Q1 = acc_set['annual_inc'].quantile(0.25)\n",
    "Q3 = acc_set['annual_inc'].quantile(0.75)\n",
    "IQR = Q3 - Q1\n",
    "acc_set = acc_set[~((acc_set['annual_inc'] < (Q1 - 1.5 * IQR)) | (acc_set['annual_inc'] > (Q3 + 1.5 * IQR)))]"
   ]
  },
  {
   "cell_type": "code",
   "execution_count": null,
   "metadata": {},
   "outputs": [
    {
     "name": "stdout",
     "output_type": "stream",
     "text": [
      "0.7416443994369606\n",
      "0.46701548924966996\n",
      "0.7203586672756999\n"
     ]
    }
   ],
   "source": [
    "print(acc_set[\"loan_amnt\"].skew())\n",
    "print(acc_set[\"int_rate\"].skew())\n",
    "print(acc_set[\"annual_inc\"].skew())\n",
    "\n",
    "# int_rate is fairly symmetrical (between -0.5 and 0.5)\n",
    "# loan_amnt & annual_inc are moderately skewed (between 0.5 and 1)"
   ]
  },
  {
   "cell_type": "code",
   "execution_count": null,
   "metadata": {},
   "outputs": [
    {
     "name": "stdout",
     "output_type": "stream",
     "text": [
      "loan_status\n",
      "Fully Paid                                             1011325\n",
      "Current                                                 790899\n",
      "Charged Off                                             248396\n",
      "Late (31-120 days)                                       18786\n",
      "In Grace Period                                           7275\n",
      "Late (16-30 days)                                         3757\n",
      "Does not meet the credit policy. Status:Fully Paid        1881\n",
      "Does not meet the credit policy. Status:Charged Off        715\n",
      "Default                                                     34\n",
      "Name: count, dtype: int64\n"
     ]
    }
   ],
   "source": [
    "category_column = 'loan_status'\n",
    "\n",
    "# Count occurrences of each category in the specified column\n",
    "category_counts = acc_set['loan_status'].value_counts()\n",
    "\n",
    "# Display the counts\n",
    "print(category_counts)"
   ]
  },
  {
   "cell_type": "code",
   "execution_count": null,
   "metadata": {},
   "outputs": [
    {
     "name": "stdout",
     "output_type": "stream",
     "text": [
      "<class 'pandas.core.frame.DataFrame'>\n",
      "Index: 1259721 entries, 0 to 2260697\n",
      "Data columns (total 7 columns):\n",
      " #   Column       Non-Null Count    Dtype  \n",
      "---  ------       --------------    -----  \n",
      " 0   loan_amnt    1259721 non-null  float64\n",
      " 1   term         1259721 non-null  object \n",
      " 2   int_rate     1259721 non-null  float64\n",
      " 3   grade        1259721 non-null  object \n",
      " 4   annual_inc   1259721 non-null  float64\n",
      " 5   loan_status  1259721 non-null  object \n",
      " 6   purpose      1259721 non-null  object \n",
      "dtypes: float64(3), object(4)\n",
      "memory usage: 76.9+ MB\n"
     ]
    }
   ],
   "source": [
    "#Filtered to only Current and Fully Paid loan statuses\n",
    "filtered_acc_set = acc_set[acc_set['loan_status'].isin(['Fully Paid', 'Charged Off'])]\n",
    "\n",
    "filtered_acc_set.info()"
   ]
  },
  {
   "cell_type": "code",
   "execution_count": null,
   "metadata": {},
   "outputs": [],
   "source": [
    "filtered_acc_set_paid = acc_set[acc_set['loan_status'].isin(['Fully Paid'])]\n",
    "filtered_acc_set_charged = acc_set[acc_set['loan_status'].isin(['Charged Off'])]\n"
   ]
  },
  {
   "cell_type": "code",
   "execution_count": null,
   "metadata": {},
   "outputs": [],
   "source": [
    "Q1 = filtered_acc_set_paid['annual_inc'].quantile(0.25)\n",
    "Q3 = filtered_acc_set_paid['annual_inc'].quantile(0.75)\n",
    "IQR = Q3 - Q1\n",
    "filtered_acc_set_paid = filtered_acc_set_paid[~((filtered_acc_set_paid['annual_inc'] < (Q1 - 1.5 * IQR)) | (filtered_acc_set_paid['annual_inc'] > (Q3 + 1.5 * IQR)))]"
   ]
  },
  {
   "cell_type": "code",
   "execution_count": null,
   "metadata": {},
   "outputs": [],
   "source": [
    "Q1 = filtered_acc_set_paid['loan_amnt'].quantile(0.25)\n",
    "Q3 = filtered_acc_set_paid['loan_amnt'].quantile(0.75)\n",
    "IQR = Q3 - Q1\n",
    "filtered_acc_set_paid = filtered_acc_set_paid[~((filtered_acc_set_paid['loan_amnt'] < (Q1 - 1.5 * IQR)) | (filtered_acc_set_paid['loan_amnt'] > (Q3 + 1.5 * IQR)))]"
   ]
  },
  {
   "cell_type": "code",
   "execution_count": null,
   "metadata": {},
   "outputs": [],
   "source": [
    "Q1 = filtered_acc_set_paid['int_rate'].quantile(0.25)\n",
    "Q3 = filtered_acc_set_paid['int_rate'].quantile(0.75)\n",
    "IQR = Q3 - Q1\n",
    "filtered_acc_set_paid = filtered_acc_set_paid[~((filtered_acc_set_paid['int_rate'] < (Q1 - 1.5 * IQR)) | (filtered_acc_set_paid['int_rate'] > (Q3 + 1.5 * IQR)))]"
   ]
  },
  {
   "cell_type": "code",
   "execution_count": null,
   "metadata": {},
   "outputs": [
    {
     "name": "stdout",
     "output_type": "stream",
     "text": [
      "0.379792378282666\n",
      "0.6710291454975075\n",
      "0.6840959402069496\n"
     ]
    }
   ],
   "source": [
    "print(filtered_acc_set_paid['int_rate'].skew())\n",
    "print(filtered_acc_set_paid['loan_amnt'].skew())\n",
    "print(filtered_acc_set_paid['annual_inc'].skew())"
   ]
  },
  {
   "cell_type": "code",
   "execution_count": null,
   "metadata": {},
   "outputs": [],
   "source": [
    "Q1 = filtered_acc_set_charged['annual_inc'].quantile(0.25)\n",
    "Q3 = filtered_acc_set_charged['annual_inc'].quantile(0.75)\n",
    "IQR = Q3 - Q1\n",
    "filtered_acc_set_charged = filtered_acc_set_charged[~((filtered_acc_set_charged['annual_inc'] < (Q1 - 1.5 * IQR)) | (filtered_acc_set_charged['annual_inc'] > (Q3 + 1.5 * IQR)))]"
   ]
  },
  {
   "cell_type": "code",
   "execution_count": null,
   "metadata": {},
   "outputs": [],
   "source": [
    "Q1 = filtered_acc_set_charged['loan_amnt'].quantile(0.25)\n",
    "Q3 = filtered_acc_set_charged['loan_amnt'].quantile(0.75)\n",
    "IQR = Q3 - Q1\n",
    "filtered_acc_set_charged = filtered_acc_set_charged[~((filtered_acc_set_charged['loan_amnt'] < (Q1 - 1.5 * IQR)) | (filtered_acc_set_charged['loan_amnt'] > (Q3 + 1.5 * IQR)))]"
   ]
  },
  {
   "cell_type": "code",
   "execution_count": null,
   "metadata": {},
   "outputs": [],
   "source": [
    "Q1 = filtered_acc_set_charged['int_rate'].quantile(0.25)\n",
    "Q3 = filtered_acc_set_charged['int_rate'].quantile(0.75)\n",
    "IQR = Q3 - Q1\n",
    "filtered_acc_set_charged = filtered_acc_set_charged[~((filtered_acc_set_charged['int_rate'] < (Q1 - 1.5 * IQR)) | (filtered_acc_set_charged['int_rate'] > (Q3 + 1.5 * IQR)))]"
   ]
  },
  {
   "cell_type": "code",
   "execution_count": null,
   "metadata": {},
   "outputs": [
    {
     "name": "stdout",
     "output_type": "stream",
     "text": [
      "0.6021600317818238\n",
      "0.6696931802098749\n",
      "0.21998913458754438\n"
     ]
    }
   ],
   "source": [
    "print(filtered_acc_set_charged['annual_inc'].skew())\n",
    "print(filtered_acc_set_charged['loan_amnt'].skew())\n",
    "print(filtered_acc_set_charged['int_rate'].skew())"
   ]
  },
  {
   "cell_type": "code",
   "execution_count": null,
   "metadata": {},
   "outputs": [],
   "source": [
    "filtered_acc_set = pd.concat([filtered_acc_set_paid, filtered_acc_set_charged])"
   ]
  },
  {
   "cell_type": "code",
   "execution_count": null,
   "metadata": {},
   "outputs": [
    {
     "name": "stdout",
     "output_type": "stream",
     "text": [
      "F-statistic: 12686.245187\n",
      "P-value: 0.000000000000000\n"
     ]
    }
   ],
   "source": [
    "result = stats.f_oneway(filtered_acc_set_paid['loan_amnt'], filtered_acc_set_charged['loan_amnt'])\n",
    "\n",
    "print(f'F-statistic: {result.statistic:.6f}')\n",
    "print(f'P-value: {result.pvalue:.15f}')"
   ]
  },
  {
   "cell_type": "markdown",
   "metadata": {},
   "source": [
    "p-value is less than 0.05, so we reject the null hypothesis and conclude that the means of loan amount are significantly different between the people who charged off and the people who fully paid"
   ]
  },
  {
   "cell_type": "code",
   "execution_count": null,
   "metadata": {},
   "outputs": [
    {
     "data": {
      "text/plain": [
       "F_onewayResult(statistic=101014.19096358858, pvalue=0.0)"
      ]
     },
     "execution_count": 29,
     "metadata": {},
     "output_type": "execute_result"
    }
   ],
   "source": [
    "stats.f_oneway(filtered_acc_set_paid['int_rate'] , filtered_acc_set_charged['int_rate'])"
   ]
  },
  {
   "cell_type": "markdown",
   "metadata": {},
   "source": [
    "p-value is less than 0.05, so we reject the null hypothesis and conclude that the means of interest rate are significantly different between the people who charged off and the people who fully paid"
   ]
  },
  {
   "cell_type": "markdown",
   "metadata": {},
   "source": [
    "# Machine Learning"
   ]
  },
  {
   "cell_type": "code",
   "execution_count": null,
   "metadata": {},
   "outputs": [],
   "source": [
    "model_data = filtered_acc_set.copy()\n",
    "model_data = model_data.reset_index()\n",
    "\n",
    "num_var=[\"loan_amnt\",\"int_rate\",\"annual_inc\"]\n",
    "cat_var=[\"term\",\"grade\",\"purpose\"]"
   ]
  },
  {
   "cell_type": "code",
   "execution_count": null,
   "metadata": {},
   "outputs": [],
   "source": [
    "from sklearn.preprocessing import OneHotEncoder, StandardScaler\n",
    "from sklearn.compose import ColumnTransformer\n",
    "\n",
    "encoder = OneHotEncoder()\n",
    "\n",
    "one_hot_encoded = encoder.fit_transform(model_data[cat_var])\n",
    "\n",
    "column_names = encoder.get_feature_names_out(cat_var)\n",
    "\n",
    "one_hot_encoded_df = pd.DataFrame(one_hot_encoded.toarray(), columns=column_names)\n",
    "data_encoded = pd.concat([model_data, one_hot_encoded_df], axis=1)\n",
    "data_encoded.drop(columns=cat_var, inplace=True,errors='ignore')\n",
    "data_encoded.drop(columns=['index'], inplace=True,errors='ignore')\n",
    "\n",
    "model_data=data_encoded"
   ]
  },
  {
   "cell_type": "code",
   "execution_count": null,
   "metadata": {},
   "outputs": [],
   "source": [
    "from sklearn.model_selection import train_test_split\n",
    "\n",
    "X_train, X_test, y_train, y_test = train_test_split(model_data.drop('loan_status', axis=1), model_data['loan_status'], test_size=0.2, random_state=0)"
   ]
  },
  {
   "cell_type": "code",
   "execution_count": null,
   "metadata": {},
   "outputs": [],
   "source": [
    "from sklearn.metrics import accuracy_score\n",
    "from sklearn.metrics import confusion_matrix\n",
    "from sklearn.metrics import classification_report\n",
    "from sklearn.metrics import roc_auc_score\n",
    "from sklearn.metrics import roc_curve\n",
    "from sklearn.metrics import precision_recall_curve\n",
    "from sklearn.metrics import auc"
   ]
  },
  {
   "cell_type": "markdown",
   "metadata": {},
   "source": [
    "# B. Classifier"
   ]
  },
  {
   "cell_type": "markdown",
   "metadata": {},
   "source": [
    "## 1. Random Forest"
   ]
  },
  {
   "cell_type": "code",
   "execution_count": null,
   "metadata": {},
   "outputs": [],
   "source": [
    "from sklearn.ensemble import RandomForestClassifier\n",
    "\n",
    "rf = RandomForestClassifier(n_estimators=10, min_samples_leaf=8, random_state=0)\n",
    "\n",
    "# Train the model\n",
    "rf.fit(X_train, y_train)\n",
    "\n",
    "# Evaluate the model on the train and testing set\n",
    "y_train_pred = rf.predict(X_train)\n",
    "y_test_pred = rf.predict(X_test)"
   ]
  },
  {
   "cell_type": "code",
   "execution_count": null,
   "metadata": {},
   "outputs": [
    {
     "data": {
      "text/plain": [
       "0.8113998845644383"
      ]
     },
     "execution_count": 35,
     "metadata": {},
     "output_type": "execute_result"
    }
   ],
   "source": [
    "acc1 = accuracy_score(y_test, y_test_pred)\n",
    "acc1"
   ]
  },
  {
   "cell_type": "code",
   "execution_count": null,
   "metadata": {},
   "outputs": [
    {
     "data": {
      "text/plain": [
       "array([[  5331,  43130],\n",
       "       [  2290, 190076]], dtype=int64)"
      ]
     },
     "execution_count": 36,
     "metadata": {},
     "output_type": "execute_result"
    }
   ],
   "source": [
    "confusion_matrix(y_test, y_test_pred)"
   ]
  },
  {
   "cell_type": "code",
   "execution_count": null,
   "metadata": {},
   "outputs": [
    {
     "data": {
      "text/plain": [
       "array(['Charged Off'], dtype=object)"
      ]
     },
     "execution_count": 171,
     "metadata": {},
     "output_type": "execute_result"
    }
   ],
   "source": [
    "from sklearn.preprocessing import OneHotEncoder, LabelEncoder\n",
    "\n",
    "new_input = pd.DataFrame({\n",
    "    'loan_amnt': [50000],\n",
    "    'term': ['36 months'],\n",
    "    'int_rate': [10],\n",
    "    'grade': ['A'],\n",
    "    'annual_inc': [10000],\n",
    "    'purpose': ['debt_consolidation']\n",
    "})\n",
    "\n",
    "new_input_cat = new_input[cat_var]\n",
    "new_input_num = new_input[num_var]\n",
    "\n",
    "new_input_encoded = encoder.transform(new_input_cat)\n",
    "new_input_encoded = pd.DataFrame(new_input_encoded.toarray(), columns=column_names)\n",
    "new_input_encoded = pd.concat([new_input_num.reset_index(drop=True), new_input_encoded.reset_index(drop=True)], axis=1)\n",
    "\n",
    "predictions = rf.predict(new_input_encoded)\n",
    "predictions"
   ]
  },
  {
   "cell_type": "markdown",
   "metadata": {},
   "source": [
    "### Grid Search for Random Forest Classifier"
   ]
  },
  {
   "cell_type": "code",
   "execution_count": null,
   "metadata": {},
   "outputs": [
    {
     "name": "stdout",
     "output_type": "stream",
     "text": [
      "Fitting 5 folds for each of 8 candidates, totalling 40 fits\n",
      "Best hyperparameters:  {'max_depth': 20, 'min_samples_leaf': 12, 'n_estimators': 50}\n"
     ]
    }
   ],
   "source": [
    "from sklearn.model_selection import GridSearchCV\n",
    "\n",
    "# Define the hyperparameters to tune\n",
    "param_grid = {'max_depth': [10, 20],\n",
    "              'min_samples_leaf': [8, 12],\n",
    "              'n_estimators': [50, 150]}\n",
    "\n",
    "rf_model = RandomForestClassifier(random_state=0)\n",
    "grid_search = GridSearchCV(estimator=rf_model, param_grid=param_grid, cv=5, n_jobs=-1, verbose=1)\n",
    "\n",
    "# Fit the grid search to the training data\n",
    "grid_search.fit(X_train, y_train)\n",
    "\n",
    "print(\"Best hyperparameters: \", grid_search.best_params_)\n",
    "\n",
    "# Use the best estimator to make predictions on the test data\n",
    "best_estimator = grid_search.best_estimator_\n",
    "\n",
    "y_train_pred = best_estimator.predict(X_train)\n",
    "y_test_pred = best_estimator.predict(X_test)\n",
    "\n",
    "acc = accuracy_score(y_test, y_test_pred)"
   ]
  },
  {
   "cell_type": "code",
   "execution_count": null,
   "metadata": {},
   "outputs": [
    {
     "data": {
      "text/plain": [
       "0.8132352269471447"
      ]
     },
     "execution_count": 50,
     "metadata": {},
     "output_type": "execute_result"
    }
   ],
   "source": [
    "param = {'max_depth': 20, 'min_samples_leaf': 12, 'n_estimators': 50}\n",
    "\n",
    "rf_model = RandomForestClassifier(param, random_state=0)\n",
    "\n",
    "\n",
    "y_train_pred = best_estimator.predict(X_train)\n",
    "y_test_pred = best_estimator.predict(X_test)\n",
    "acc = accuracy_score(y_test, y_test_pred)\n",
    "acc"
   ]
  },
  {
   "cell_type": "markdown",
   "metadata": {},
   "source": [
    "## 2. K-Nearest Neighbors"
   ]
  },
  {
   "cell_type": "code",
   "execution_count": null,
   "metadata": {},
   "outputs": [],
   "source": [
    "from sklearn.neighbors import KNeighborsClassifier\n",
    "knn = KNeighborsClassifier(n_neighbors=3)\n",
    "\n",
    "knn_model = knn.fit(X_train, y_train)\n",
    "knn_pred = knn_model.predict(X_test)"
   ]
  },
  {
   "cell_type": "code",
   "execution_count": null,
   "metadata": {},
   "outputs": [
    {
     "name": "stdout",
     "output_type": "stream",
     "text": [
      "Accuracy Score: 0.7594912530571738\n"
     ]
    }
   ],
   "source": [
    "print('Accuracy Score:', accuracy_score(y_test, knn_pred))"
   ]
  },
  {
   "cell_type": "code",
   "execution_count": null,
   "metadata": {},
   "outputs": [
    {
     "data": {
      "text/plain": [
       "array([[  5331,  43130],\n",
       "       [  2290, 190076]], dtype=int64)"
      ]
     },
     "execution_count": 43,
     "metadata": {},
     "output_type": "execute_result"
    }
   ],
   "source": [
    "confusion_matrix(y_test, y_test_pred)"
   ]
  },
  {
   "cell_type": "code",
   "execution_count": null,
   "metadata": {},
   "outputs": [
    {
     "data": {
      "text/plain": [
       "array(['Charged Off'], dtype=object)"
      ]
     },
     "execution_count": 154,
     "metadata": {},
     "output_type": "execute_result"
    }
   ],
   "source": [
    "from sklearn.preprocessing import OneHotEncoder, LabelEncoder\n",
    "\n",
    "new_input = pd.DataFrame({\n",
    "    'loan_amnt': [30000],\n",
    "    'term': [' 60 months'],\n",
    "    'int_rate': [17],\n",
    "    'grade': ['F'],\n",
    "    'annual_inc': [25000],\n",
    "    'purpose': ['major_purchase']\n",
    "})\n",
    "\n",
    "new_input_cat = new_input[cat_var]\n",
    "new_input_num = new_input[num_var]\n",
    "\n",
    "new_input_encoded = encoder.transform(new_input_cat)\n",
    "new_input_encoded = pd.DataFrame(new_input_encoded.toarray(), columns=column_names)\n",
    "new_input_encoded = pd.concat([new_input_num.reset_index(drop=True), new_input_encoded.reset_index(drop=True)], axis=1)\n",
    "\n",
    "predictions = knn_model.predict(new_input_encoded)\n",
    "predictions"
   ]
  }
 ],
 "metadata": {
  "kernelspec": {
   "display_name": "Python 3",
   "language": "python",
   "name": "python3"
  },
  "language_info": {
   "codemirror_mode": {
    "name": "ipython",
    "version": 3
   },
   "file_extension": ".py",
   "mimetype": "text/x-python",
   "name": "python",
   "nbconvert_exporter": "python",
   "pygments_lexer": "ipython3",
   "version": "3.11.5"
  }
 },
 "nbformat": 4,
 "nbformat_minor": 2
}
